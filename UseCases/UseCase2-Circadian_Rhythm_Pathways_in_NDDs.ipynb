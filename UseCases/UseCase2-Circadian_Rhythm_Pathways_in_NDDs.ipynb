{
 "cells": [
  {
   "cell_type": "markdown",
   "id": "175a16a38611e606",
   "metadata": {
    "collapsed": false
   },
   "source": [
    "## Example 2: Circadian Rhythm Pathways in Neurodegeneration\n",
    "Building upon the comprehensive data compiled in [Ruffini et al., 2022](https://doi.org/10.3389/fnagi.2022.866886) we have identified genes associated with Alzheimer's Disease (AD), Parkinson's Disease (PD), Amyotrophic Lateral Sclerosis (ALS), and Huntington's Disease (HD) that are linked to the KEGG pathway [Circadian Rhythm](https://www.genome.jp/kegg-bin/show_pathway?hsa04710) (hsa04710). This dataset includes information on the proportion of studies where these genes appeared as significant, along with their patterns of upregulation or downregulation. In this example, we demonstrate how to utilize the KEGG pathway visualization and analyze genes within a specific pathway. We aim to elucidate the roles of these genes in various conditions and illustrate how visualizing the regulation of individual genes can highlight specific sub-processes within the pathway."
   ]
  },
  {
   "cell_type": "markdown",
   "id": "2b9dc2b1c8d55770",
   "metadata": {
    "collapsed": false
   },
   "source": [
    "#### Import statements and setup of data\n",
    "\n",
    "We deposited our gathered data on AD, PD, HD, and ALS here in regards to all genes we found throughout transcrtiptomics, proteomics and methylomics studies. in the NDDs_long_df you can find data on the mean direction of regulation and the number of experiments the respective genes/proteins were found in for the respective omics layer and in which frequencies (count). "
   ]
  },
  {
   "cell_type": "code",
   "execution_count": null,
   "id": "39cb91e827c0fe51",
   "metadata": {
    "collapsed": false
   },
   "outputs": [],
   "source": [
    "from biocomet.visualization import visualize_KEGG, visualize_wikipathway, visualize_Reactome\n",
    "\n",
    "from biocomet.examples import meta_ruffini2022_NDD\n",
    "\n",
    "NDDs_long_df = meta_ruffini2022_NDD.data\n",
    "\n",
    "NDDs_long_df_DEG = NDDs_long_df[NDDs_long_df['OmicsLayer'] == 'DEG'].copy()"
   ]
  },
  {
   "cell_type": "markdown",
   "id": "d313ab3f3e20daab",
   "metadata": {
    "collapsed": false
   },
   "source": [
    "#### Alzheimer's Disease (AD) - Circadian Rhythm Analysis\n",
    "Investigating the circadian rhythm pathway influenced by gene alterations in Alzheimer's Disease."
   ]
  },
  {
   "cell_type": "code",
   "execution_count": null,
   "id": "e46e2b1b32ec0076",
   "metadata": {
    "collapsed": false
   },
   "outputs": [],
   "source": [
    "NDD = 'AD'\n",
    "\n",
    "ndd_genes = NDDs_long_df_DEG[(NDDs_long_df_DEG['NDD'] == NDD)]['Gene']\n",
    "ndd_reg = NDDs_long_df_DEG[(NDDs_long_df_DEG['NDD'] == NDD)]['MeanRegDir']\n",
    "\n",
    "gene_reg_dict = dict(zip(ndd_genes, ndd_reg))\n",
    "\n",
    "# Visualize KEGG pathway for AD\n",
    "visualize_KEGG(pathway_id='hsa04710', gene_reg_dict=gene_reg_dict, organism='human', suffix='_' + NDD)"
   ]
  },
  {
   "cell_type": "markdown",
   "id": "d6ddac8f15c81b14",
   "metadata": {
    "collapsed": false
   },
   "source": [
    "#### Parkinson's Disease (PD) - Circadian Rhythm Analysis\n",
    "\n",
    "Investigating the circadian rhythm pathway influenced by gene alterations in Parkinson's Disease."
   ]
  },
  {
   "cell_type": "code",
   "execution_count": null,
   "id": "e8fc6e6c57aaef81",
   "metadata": {
    "collapsed": false
   },
   "outputs": [],
   "source": [
    "NDD = 'PD'\n",
    "\n",
    "ndd_genes = NDDs_long_df_DEG[(NDDs_long_df_DEG['NDD'] == NDD)]['Gene']\n",
    "ndd_reg = NDDs_long_df_DEG[(NDDs_long_df_DEG['NDD'] == NDD)]['MeanRegDir']\n",
    "\n",
    "gene_reg_dict = dict(zip(ndd_genes, ndd_reg))\n",
    "\n",
    "\n",
    "visualize_Reactome(pathway_id='R-HSA-6783589', gene_reg_dict=gene_reg_dict, organism='human', suffix='_' + NDD)\n",
    "\n",
    "# wikipathway for iron accumulation\n",
    "visualize_wikipathway(pathway_id='WP5142', gene_reg_dict=gene_reg_dict, suffix='_' + NDD)\n",
    "\n",
    "# Visualize KEGG pathway for AD\n",
    "visualize_KEGG(pathway_id='hsa04710', gene_reg_dict=gene_reg_dict, organism='human', suffix='_' + NDD)\n",
    "\n"
   ]
  },
  {
   "cell_type": "markdown",
   "id": "60204920d332fca4",
   "metadata": {
    "collapsed": false
   },
   "source": [
    "#### Huntington's Disease (HD) - Circadian Rhythm Analysis\n",
    "\n",
    "Exploring the circadian rhythm pathway alterations in Huntington's Disease."
   ]
  },
  {
   "cell_type": "code",
   "execution_count": null,
   "id": "bc306981e11d74f9",
   "metadata": {
    "collapsed": false
   },
   "outputs": [],
   "source": [
    "NDD = 'HD'\n",
    "\n",
    "ndd_genes = NDDs_long_df_DEG[(NDDs_long_df_DEG['NDD'] == NDD)]['Gene']\n",
    "ndd_reg = NDDs_long_df_DEG[(NDDs_long_df_DEG['NDD'] == NDD)]['MeanRegDir']\n",
    "\n",
    "gene_reg_dict = dict(zip(ndd_genes, ndd_reg))\n",
    "\n",
    "# Visualize KEGG pathway for AD\n",
    "visualize_KEGG(pathway_id='hsa04710', gene_reg_dict=gene_reg_dict, organism='human', suffix='_' + NDD)"
   ]
  },
  {
   "cell_type": "markdown",
   "id": "aac2e9e6af4f4e6d",
   "metadata": {
    "collapsed": false
   },
   "source": [
    "#### Amyotrophic Lateral Sclerosis (ALS) - Circadian Rhythm Analysis\n",
    "\n",
    "Analyzing circadian rhythm pathway disruptions in Amyotrophic Lateral Sclerosis."
   ]
  },
  {
   "cell_type": "code",
   "execution_count": null,
   "id": "fc6821298ae501c0",
   "metadata": {
    "collapsed": false
   },
   "outputs": [],
   "source": [
    "NDD = 'ALS'\n",
    "\n",
    "ndd_genes = NDDs_long_df_DEG[(NDDs_long_df_DEG['NDD'] == NDD)]['Gene']\n",
    "ndd_reg = NDDs_long_df_DEG[(NDDs_long_df_DEG['NDD'] == NDD)]['MeanRegDir']\n",
    "\n",
    "gene_reg_dict = dict(zip(ndd_genes, ndd_reg))\n",
    "\n",
    "# Visualize KEGG pathway for AD\n",
    "visualize_KEGG(pathway_id='hsa04710', gene_reg_dict=gene_reg_dict, organism='human', suffix='_' + NDD)"
   ]
  },
  {
   "cell_type": "markdown",
   "id": "e40a940633f95b34",
   "metadata": {
    "collapsed": false
   },
   "source": [
    "### Exploring Circadian Entrainment - An Outlook\n",
    "\n",
    "While our focus has been on the [Circadian Rhythm](https://www.genome.jp/kegg-bin/show_pathway?hsa04710),  the KEGG pathway [Circadian Entrainment](https://www.genome.jp/kegg-bin/show_pathway?hsa04713) (hsa04713) is another pathway that might offer intriguing insights. This pathway involves the synchronization of the internal circadian rhythms to external cues, a process vital for physiological balance. We have already prepared the gene sets to include relevant genes for this pathway, presenting an opportunity for further exploration."
   ]
  },
  {
   "cell_type": "code",
   "execution_count": null,
   "id": "6cabf6a1af68c62b",
   "metadata": {
    "collapsed": false
   },
   "outputs": [],
   "source": [
    "NDD = 'AD'\n",
    "\n",
    "ndd_genes = NDDs_long_df_DEG[(NDDs_long_df_DEG['NDD'] == NDD)]['Gene']\n",
    "ndd_reg = NDDs_long_df_DEG[(NDDs_long_df_DEG['NDD'] == NDD)]['MeanRegDir']\n",
    "\n",
    "gene_reg_dict = dict(zip(ndd_genes, ndd_reg))\n",
    "\n",
    "# Visualize KEGG pathway for AD\n",
    "visualize_KEGG(pathway_id='hsa04713', gene_reg_dict=gene_reg_dict, organism='human', suffix='_' + NDD)\n",
    "\n",
    "# neurodegeneration\n",
    "visualize_KEGG(pathway_id='hsa05022', gene_reg_dict=gene_reg_dict, organism='human', suffix='_' + NDD)\n"
   ]
  },
  {
   "cell_type": "markdown",
   "source": [
    "## Now an example of the Mathys et al., 2019 single cell AD data: early AD vs late AD"
   ],
   "metadata": {
    "collapsed": false
   },
   "id": "16d6b3cdcb3befba"
  },
  {
   "cell_type": "code",
   "outputs": [],
   "source": [
    "from biocomet.visualization import visualize_KEGG\n",
    "\n",
    "from biocomet.examples import sc_mathys2019_eAD_lAD\n",
    "\n",
    "eAD_long_df = sc_mathys2019_eAD_lAD.data\n",
    "\n",
    "# being more strict here\n",
    "eAD_long_df = eAD_long_df[eAD_long_df['padj'] < 0.01]\n",
    "\n",
    "eAD_genes = eAD_long_df[(eAD_long_df['Tissue'] == 'Oligo_Progenitor_Cells')]['Gene']\n",
    "eAD_reg   = eAD_long_df[(eAD_long_df['Tissue'] == 'Oligo_Progenitor_Cells')]['FC']\n",
    "\n",
    "print(len(eAD_genes), len(eAD_reg))\n",
    "\n",
    "gene_reg_dict = dict(zip(eAD_genes, eAD_reg))\n",
    "\n",
    "# Visualize KEGG pathway for AD\n",
    "visualize_KEGG(pathway_id='hsa05022', gene_reg_dict=gene_reg_dict, organism='human', suffix='_eAD_lAD')"
   ],
   "metadata": {
    "collapsed": false
   },
   "id": "5b006ce3776722b3",
   "execution_count": null
  },
  {
   "cell_type": "code",
   "outputs": [],
   "source": [
    "from biocomet.visualization import visualize_Reactome\n",
    "\n",
    "\n",
    "visualize_Reactome('R-HSA-1643685.19', dict(zip(eAD_genes, eAD_reg)), organism=9606)\n",
    "\n"
   ],
   "metadata": {
    "collapsed": false
   },
   "id": "241a7e1e0de8eeac",
   "execution_count": null
  },
  {
   "cell_type": "code",
   "outputs": [],
   "source": [],
   "metadata": {
    "collapsed": false
   },
   "id": "302a283d904911dd",
   "execution_count": null
  },
  {
   "cell_type": "code",
   "outputs": [],
   "source": [],
   "metadata": {
    "collapsed": false
   },
   "id": "54ed6d8999bc73e5",
   "execution_count": null
  },
  {
   "cell_type": "code",
   "outputs": [],
   "source": [
    "import biocomet as bc\n",
    "\n",
    "eAD_network = bc.PPIGraph(gene_list=eAD_genes, reg_list=eAD_reg)\n",
    "eAD_network.get_functional_annotation()\n",
    "#eAD_network.plot_Wordclouds_PPI(categories='pathways')"
   ],
   "metadata": {
    "collapsed": false
   },
   "id": "efb87554f7226aa2",
   "execution_count": null
  },
  {
   "cell_type": "code",
   "outputs": [],
   "source": [],
   "metadata": {
    "collapsed": false
   },
   "id": "ecfbf8ec3249902b",
   "execution_count": null
  },
  {
   "cell_type": "code",
   "outputs": [],
   "source": [
    "from biocomet.visualization import visualize_Reactome\n",
    "\n",
    "\n",
    "visualize_Reactome('R-HSA-1643685.19', dict(zip(eAD_genes, eAD_reg)), organism=9606)"
   ],
   "metadata": {
    "collapsed": false
   },
   "id": "180dc8e7c844392b",
   "execution_count": null
  },
  {
   "cell_type": "code",
   "outputs": [],
   "source": [
    "eAD_network.plot_Reactome(community=0)\n"
   ],
   "metadata": {
    "collapsed": false,
    "is_executing": true
   },
   "id": "f34cd6cefbdd5772",
   "execution_count": null
  },
  {
   "cell_type": "code",
   "outputs": [],
   "source": [],
   "metadata": {
    "collapsed": false,
    "is_executing": true
   },
   "id": "d1d1a91a64731ee3"
  },
  {
   "cell_type": "code",
   "outputs": [],
   "source": [],
   "metadata": {
    "collapsed": false,
    "is_executing": true
   },
   "id": "2b52657c915c35db"
  },
  {
   "cell_type": "code",
   "outputs": [],
   "source": [
    "from biocomet.examples import sc_mathys2019_eAD_lAD, sc_mathys2019_ctrl_AD\n",
    "from biocomet.dpGSEA import dp_GSEA\n",
    "\n",
    "eAD_long_df = sc_mathys2019_eAD_lAD.data\n",
    "\n",
    "# being more strict here\n",
    "AD_long_df = eAD_long_df[eAD_long_df['padj'] < 0.05]\n",
    "\n",
    "AD_genes = AD_long_df[(AD_long_df['Tissue'] == 'Exc_Neuron')]['Gene']\n",
    "AD_reg   = AD_long_df[(AD_long_df['Tissue'] == 'Exc_Neuron')]['FC']\n",
    "AD_sig   = AD_long_df[(AD_long_df['Tissue'] == 'Exc_Neuron')]['padj']\n",
    "\n",
    "print(len(AD_genes), 'genes')\n",
    "\n",
    "res = dp_GSEA(gene_list=AD_genes, reg_list=AD_reg, sig_list=AD_sig, min_genes=50)\n"
   ],
   "metadata": {
    "collapsed": false,
    "is_executing": true
   },
   "id": "68d39fcdb36b9e54",
   "execution_count": null
  },
  {
   "cell_type": "code",
   "outputs": [],
   "source": [
    "res\n"
   ],
   "metadata": {
    "collapsed": false,
    "is_executing": true
   },
   "id": "7cf0ca8cca72c7f1",
   "execution_count": null
  },
  {
   "cell_type": "code",
   "outputs": [],
   "source": [
    "# for some drugs I get multiple entries"
   ],
   "metadata": {
    "collapsed": false,
    "is_executing": true
   },
   "id": "30582e0cf21d884e"
  }
 ],
 "metadata": {
  "kernelspec": {
   "display_name": "Python 3 (ipykernel)",
   "language": "python",
   "name": "python3"
  },
  "language_info": {
   "codemirror_mode": {
    "name": "ipython",
    "version": 3
   },
   "file_extension": ".py",
   "mimetype": "text/x-python",
   "name": "python",
   "nbconvert_exporter": "python",
   "pygments_lexer": "ipython3",
   "version": "3.10.13"
  }
 },
 "nbformat": 4,
 "nbformat_minor": 5
}
